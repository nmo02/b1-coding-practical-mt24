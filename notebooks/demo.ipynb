{
 "cells": [
  {
   "cell_type": "code",
   "execution_count": 1,
   "metadata": {},
   "outputs": [],
   "source": [
    "# Add relevant Jupyter notebook extensions "
   ]
  },
  {
   "cell_type": "code",
   "execution_count": null,
   "metadata": {},
   "outputs": [],
   "source": [
    "# You can double-check your Python path like this...\n",
    "import sys  \n",
    "print(sys.path)"
   ]
  },
  {
   "cell_type": "markdown",
   "metadata": {},
   "source": [
    "# Simulate closed-loop\n",
    "After implementing your control functionality, you can simulate the closed-loop with code that looks something like this..."
   ]
  },
  {
   "cell_type": "code",
   "execution_count": null,
   "metadata": {},
   "outputs": [],
   "source": [
    "# Import relevant modules\n",
    "from dynamic import ClosedLoop, Submarine  #dynamic.py contains these\n",
    "from control import PDController  # PD controller in control.py\n",
    "from dynamic import Mission  # To load mission profiles\n",
    "import matplotlib.pyplot as plt\n",
    "import numpy as np\n",
    "\n",
    "sub = Submarine()\n",
    "# Load the mission data from a CSV file (implement from_csv method in Mission)\n",
    "mission = Mission.from_csv(\"D:/Engineering/Year 3/B1/Numerical Algorithms/b1-coding-practical-mt24/data/mission.csv\") \n",
    "\n",
    "# Set PD controller gains\n",
    "KP = 0.15  # Proportional gain\n",
    "KD = 0.6   # Derivative gain\n",
    "\n",
    "# Function to compute the tracking error (Sum of Squared Errors - SSE)\n",
    "def compute_error(KP, KD, mission):\n",
    "    # Instantiate the submarine and PD controller with the given KP and KD\n",
    "    sub = Submarine()\n",
    "    controller = PDController(KP, KD)\n",
    "    closed_loop = ClosedLoop(sub, controller)\n",
    "    \n",
    "    # Simulate the closed-loop system\n",
    "    trajectory = closed_loop.simulate_with_random_disturbances(mission)\n",
    "    \n",
    "    # Compute the sum of squared errors (SSE) between reference and actual depth\n",
    "    # The actual depth is stored within the trajectory, so we need to compare it to the mission reference\n",
    "    error = np.sum((np.array(mission.reference) - np.array(trajectory.position[:, 1])) ** 2)\n",
    "    \n",
    "    return error, trajectory\n",
    "\n",
    "# Define ranges for KP and KD to test (Grid Search)\n",
    "KP_values = np.linspace(0.1, 1.0, 10)  # Proportional gains to test\n",
    "KD_values = np.linspace(0.1, 1.0, 10)  # Derivative gains to test\n",
    "\n",
    "# Initialize variables to track the best KP, KD, and minimum error\n",
    "best_KP, best_KD = None, None\n",
    "min_error = float('inf')\n",
    "best_trajectory = None\n",
    "\n",
    "# Perform grid search for optimal KP and KD values\n",
    "for KP in KP_values:\n",
    "    for KD in KD_values:\n",
    "        error, trajectory = compute_error(KP, KD, mission)\n",
    "        \n",
    "        # If the error is lower, update the best KP, KD, and min_error\n",
    "        if error < min_error:\n",
    "            best_KP, best_KD = KP, KD\n",
    "            min_error = error\n",
    "            best_trajectory = trajectory\n",
    "\n",
    "\n",
    "# Instantiate controller\n",
    "controller = PDController(best_KP, best_KD)\n",
    "\n",
    "# Create the closed loop system\n",
    "closed_loop = ClosedLoop(sub, controller)\n",
    "\n",
    "\n",
    "# Simulate the closed loop system with random disturbances\n",
    "trajectory = closed_loop.simulate_with_random_disturbances(mission)\n",
    "\n",
    "# Plot the completed mission trajectory vs. reference depths\n",
    "trajectory.plot_completed_mission(mission)"
   ]
  }
 ],
 "metadata": {
  "kernelspec": {
   "display_name": "first-venv",
   "language": "python",
   "name": "python3"
  },
  "language_info": {
   "codemirror_mode": {
    "name": "ipython",
    "version": 3
   },
   "file_extension": ".py",
   "mimetype": "text/x-python",
   "name": "python",
   "nbconvert_exporter": "python",
   "pygments_lexer": "ipython3",
   "version": "3.9.12"
  }
 },
 "nbformat": 4,
 "nbformat_minor": 2
}
